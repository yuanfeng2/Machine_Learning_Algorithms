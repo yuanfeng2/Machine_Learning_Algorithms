{
 "cells": [
  {
   "cell_type": "markdown",
   "metadata": {},
   "source": [
    "# Assignment 2 - Machine Learning Basics\n",
    "\n",
    "## *YOUR FULL NAME HERE*\n",
    "Netid:  *yf115*"
   ]
  },
  {
   "cell_type": "markdown",
   "metadata": {},
   "source": [
    "Instructions for all assignments can be found [here](https://github.com/kylebradbury/ids705/blob/master/assignments/_Assignment%20Instructions.ipynb), which is also linked to from the [course syllabus](https://kylebradbury.github.io/ids705/index.html)."
   ]
  },
  {
   "cell_type": "markdown",
   "metadata": {},
   "source": [
    "## Learning Objectives:\n",
    "This assignment will provide structured practice to help enable you to...\n",
    "- Implement a k-nearest neighbors machine learning algorithm from scratch in a style similar to that of popular machine learning tools like `scikit-learn`\n",
    "- Apply basic regression and classification supervised learning techniques to data and evaluate the performance of those methods\n",
    "- Understand the bias-variance tradeoff and the impact of model flexibility algorithm performance and model selections"
   ]
  },
  {
   "cell_type": "code",
   "execution_count": 1,
   "metadata": {},
   "outputs": [],
   "source": [
    "# MAC USERS TAKE NOTE:\n",
    "# For clearer plots in Jupyter notebooks on macs, run the following line of code:\n",
    "# %config InlineBackend.figure_format = 'retina'"
   ]
  },
  {
   "cell_type": "markdown",
   "metadata": {},
   "source": [
    "# Conceptual Questions"
   ]
  },
  {
   "cell_type": "markdown",
   "metadata": {},
   "source": [
    "## 1\n",
    "**[5 points]**\n",
    "For each part (a) through (d), indicate whether we would generally expect the performance of a flexible statistical learning method to be better or worse than an inflexible method. Justify your answer.\n",
    "\n",
    "1. The sample size $n$ is extremely large, and the number of predictors $p$ is small.\n",
    "2. The number of predictors $p$ is extremely large, and the number of observations $n$ is small.\n",
    "3. The relationship between the predictors and response is highly non-linear.\n",
    "4. The variance of the error terms, i.e. $\\sigma^2 = Var(\\epsilon)$, is extremely high"
   ]
  },
  {
   "cell_type": "markdown",
   "metadata": {},
   "source": [
    "**ANSWER**\n",
    "\n",
    "Would flexible learning method be better or worse?\n",
    "“Flexibility” is a property of a statistical learning method. It is a measure of how much a fitted model can vary with a given train data. The more the flexible the model is, the better it can fit the train data.\n",
    "\n",
    "1. Better. A flexible model is more suitable for this situation. With a extremely large sample size and small number of predictors. A more sophisticated model will help explore the relationships of the data. \n",
    "\n",
    "\n",
    "2. Worse. An inflexible model is the optimal choice. With extremely large number of predictors, the problem od over-fitting may arise and an inflexible will help improve model performance.\n",
    "\n",
    "\n",
    "3. Better.  A flexible model should be chosen in this example. Therefore the highly non-linear relatonship could be captured by a more advanced model.\n",
    "\n",
    "\n",
    "4. Worse. An inflexible model would be more suitable in this case. Since the variance of the term is high, a complex model is very likely to capture the relationship of the errors instead of the true relationship."
   ]
  },
  {
   "cell_type": "markdown",
   "metadata": {},
   "source": [
    "## 2\n",
    "**[5 points]** For each of the following, (i) explain if each scenario is a classification or regression problem, (ii) indicate whether we are most interested in inference or prediction for that problem, and (iii) provide the sample size $n$ and number of predictors $p$ indicated for each scenario.\n",
    "\n",
    "**(a)** We collect a set of data on the top 500 firms in the US. For each firm we record profit, number of employees, industry and the CEO salary. We are interested in understanding which factors affect CEO salary.\n",
    "\n",
    "**(b)** We are considering launching a new product and wish to know whether it will be a success or a failure. We collect data on 20 similar products that were previously launched. For each product we have recorded whether it was a success or failure, price charged for the product, marketing budget, competition price, and ten other variables.\n",
    "\n",
    "**(c)** We are interesting in predicting the % change in the US dollar in relation to the weekly changes in the world stock markets. Hence we collect weekly data for all of 2012. For each week we record the % change in the dollar, the % change in the US market, the % change in the British market, and the % change in the German market."
   ]
  },
  {
   "cell_type": "markdown",
   "metadata": {},
   "source": [
    "**ANSWER**\n",
    "\n",
    "1. This is a regression problem, in which inference of CEO salary is the topic of interest. The sample size is 500 and number of predictors is 3 (profit, number of employees in the company and type of industry).\n",
    "\n",
    "\n",
    "2. This is a classification problem, in which the prediction is the main interest. The sample size is 20 and the number of predictors is 13 (price charged for the product, marketing budget, competition price and ten other).\n",
    "\n",
    "\n",
    "3. This is a regression problem with prediction being the main interest. The sample size is 52 (number of weeks in 2012) and the number of predictors is 4 (% change in the dollar, the % change in the US market, the % change in the British market, and the % change in the German market)."
   ]
  },
  {
   "cell_type": "markdown",
   "metadata": {},
   "source": [
    "# Practical Questions"
   ]
  },
  {
   "cell_type": "markdown",
   "metadata": {},
   "source": [
    "## 3\n",
    "**[10 points] Classification II**. The table below provides a training dataset containing six observations ($n=6$), three predictors ($p=3$), and one qualitative response variable.\n",
    "\n",
    "*Table 1. Dataset with $n=6$ observations in $p=3$ dimensions with a categorical response, $y$*\n",
    "\n",
    "| Obs. | $x_1$ | $x_2$ | $x_3$ | $y$   |\n",
    "|------|-------|-------|-------|-------|\n",
    "| **1**| 0     | 3     | 0     | Red   |\n",
    "| **2**| 2     | 0     | 0     | Red   |\n",
    "| **3**| 0     | 1     | 3     | Red   |\n",
    "| **4**| 0     | 1     | 2     | Blue  |\n",
    "| **5**| -1    | 0     | 1     | Blue  |\n",
    "| **6**| 1     | 1     | 1     | Red   |\n",
    "\n",
    "We want to use this dataset to make a prediction for $y$ when $x_1=x_2=x_3=0$ using $K$-nearest neighbors. You are given some code below to get you started.\n",
    "\n",
    "**(a)** Compute the Euclidean distance between each observation and the test point, $x_1=x_2=x_3=0$. Present your answer in a table similar in style to Table 1 with observations 1-6 as the row headers.\n",
    "\n",
    "**(b)** What is our prediction with $K=1$? Why?\n",
    "\n",
    "**(c)** What is our prediction with $K=3$? Why?\n",
    "\n",
    "**(d)** If the Bayes decision boundary (the optimal decision boundary) in this problem is highly nonlinear, then would we expect the *best* value of $K$ to be large or small? Why?"
   ]
  },
  {
   "cell_type": "markdown",
   "metadata": {},
   "source": [
    "**ANSWER**:"
   ]
  },
  {
   "cell_type": "code",
   "execution_count": 6,
   "metadata": {},
   "outputs": [
    {
     "data": {
      "text/plain": [
       "array([3.        , 2.        , 3.16227766, 2.23606798, 1.41421356,\n",
       "       1.73205081])"
      ]
     },
     "execution_count": 6,
     "metadata": {},
     "output_type": "execute_result"
    }
   ],
   "source": [
    "#(a)\n",
    "import numpy as np\n",
    "\n",
    "X = np.array([[ 0, 3, 0],\n",
    "              [ 2, 0, 0],\n",
    "              [ 0, 1, 3],\n",
    "              [ 0, 1, 2],\n",
    "              [-1, 0, 1],\n",
    "              [ 1, 1, 1]])\n",
    "\n",
    "y = np.array(['r','r','r','b','b','r'])\n",
    "\n",
    "Z=np.array([[ 0, 0, 0],\n",
    "              [ 0, 0, 0],\n",
    "              [ 0, 0, 0],\n",
    "              [ 0, 0, 0],\n",
    "              [0, 0, 0],\n",
    "              [ 0, 0, 0]])\n",
    "\n",
    "\n",
    "distance = np.sqrt(np.sum((X - Z)**2, axis = 1))\n",
    "distance\n"
   ]
  },
  {
   "cell_type": "markdown",
   "metadata": {},
   "source": [
    "\n",
    "*Table 2. The Euclidean Distance between each Observation and the Test point*\n",
    "\n",
    "| Obs. | $Distance$ | $y$ |\n",
    "|------|-------|-------|\n",
    "| **1**| 3     | Red     |\n",
    "| **2**| 2     | Red     |\n",
    "| **3**| 3.162     | Red     |\n",
    "| **4**| 2.236     | Blue    |\n",
    "| **5**| 1.414    | Blue   |\n",
    "| **6**| 1.732     | Red    |"
   ]
  },
  {
   "cell_type": "code",
   "execution_count": 30,
   "metadata": {},
   "outputs": [
    {
     "name": "stdout",
     "output_type": "stream",
     "text": [
      "['b']\n"
     ]
    }
   ],
   "source": [
    "#(b)\n",
    "from sklearn.neighbors import KNeighborsClassifier\n",
    "\n",
    "b = KNeighborsClassifier(n_neighbors=1)\n",
    "b.fit(X, y)\n",
    "b_predict = b.predict(np.array([0,0,0]).reshape(1,3))\n",
    "print(b_predict)"
   ]
  },
  {
   "cell_type": "markdown",
   "metadata": {},
   "source": [
    "**(b)** \n",
    "Our prediction with $K=1$ is Blue. With $K = 1$, the test point is identified as the category of point 5, since the Euclidean distance of point 5 is the smallest."
   ]
  },
  {
   "cell_type": "code",
   "execution_count": 32,
   "metadata": {},
   "outputs": [
    {
     "name": "stdout",
     "output_type": "stream",
     "text": [
      "['r']\n"
     ]
    }
   ],
   "source": [
    "#(c)\n",
    "from sklearn.neighbors import KNeighborsClassifier\n",
    "\n",
    "c = KNeighborsClassifier(n_neighbors=3)\n",
    "c.fit(X, y)\n",
    "c_predict = c.predict(np.array([0,0,0]).reshape(1,3))\n",
    "print(c_predict)"
   ]
  },
  {
   "cell_type": "markdown",
   "metadata": {},
   "source": [
    "**(c)** \n",
    "\n",
    "Our prediction with $K=3$ is Red. When $K = 3$ is the case, the test point is identified as the category of point 2,5 and 6. This is because sum of their Euclidean distance is the smallest. With Red being the majority of classifications of this group, the test point is classified as red as well."
   ]
  },
  {
   "cell_type": "markdown",
   "metadata": {},
   "source": [
    "**(d)** \n",
    "\n",
    "We would expect the *best* value of $K$ to be small because small $K$ will yield more smooth curves, which could better capture the trend shown in the highly nonlinear training dataset."
   ]
  },
  {
   "cell_type": "markdown",
   "metadata": {},
   "source": [
    "## 4\n",
    "**[20 points] Classification I: Creating a classification algorithm**.\n",
    "\n",
    "**(a)** Build a working version of a binary kNN classifier using the skeleton code below.\n",
    "\n",
    "**(b)** Load the datasets to be evaluated here. Each includes training features ($\\mathbf{X}$), and test features ($\\mathbf{y}$) for both a low dimensional ($p = 2$ features/predictors) and a high dimensional ($p = 100$ features/predictors). For each of these datasets there are $n=100$ observations of each. They can be found in the `data` subfolder in the `assignments` folder on github. Each file is labeled similar to `A2_X_train_low.csv`, which lets you know whether the dataset is of features, $X$, targets, $y$; training or testing; and low or high dimensions.\n",
    "\n",
    "**(c)** Train your classifier on first the low dimensional dataset and then the high dimensional dataset with $k=5$. Evaluate the classification performance on the corresponding test data for each. Calculate the time it takes to make the predictions in each case and the overall accuracy of each set of test data predictions.\n",
    "\n",
    "**(d)** Compare your implementation's accuracy and computation time to the scikit learn [KNeighborsClassifier](http://scikit-learn.org/stable/modules/generated/sklearn.neighbors.KNeighborsClassifier.html) class. How do the results and speed compare?\n",
    "\n",
    "**(e)** Some supervised learning algorithms are more computationally intensive during training than testing. What are the drawbacks of the prediction process being slow?"
   ]
  },
  {
   "cell_type": "markdown",
   "metadata": {},
   "source": [
    "**ANSWER**:"
   ]
  },
  {
   "cell_type": "code",
   "execution_count": 24,
   "metadata": {},
   "outputs": [],
   "source": [
    "# (a) Write your own kNN classifier\n",
    "import numpy as np\n",
    "\n",
    "class Knn:\n",
    "# k-Nearest Neighbor class object for classification training and testing\n",
    "    def __init__(self):\n",
    "        self.X_train = None\n",
    "        self.y_train = None\n",
    "    \n",
    "    def fit(self, x, y):\n",
    "        # Save the training data to properties of this class\n",
    "        self.X_train = x\n",
    "        self.y_train = y\n",
    "\n",
    "    \n",
    "    def predict(self, x, k): \n",
    "        \n",
    "        y_hat = []\n",
    "        \n",
    "        for i in x:\n",
    "            \n",
    "            distances = [np.sqrt(np.sum((j - i)**2)) for j in self.X_train] \n",
    "        \n",
    "            nearest = np.argsort(distances)\n",
    "        \n",
    "            topK = [self.y_train[i] for i in nearest[:k]]\n",
    "            \n",
    "            result = 1 if np.sum(topK)>= k/2 else 0\n",
    "            \n",
    "            y_hat.append(result)\n",
    "        \n",
    "           \n",
    "\n",
    "        return y_hat\n",
    "\n",
    "    \n",
    "# Metric of overall classification accuracy\n",
    "#  (a more general function, sklearn.metrics.accuracy_score, is also available)\n",
    "def accuracy(y,y_hat):\n",
    "    nvalues = len(y)\n",
    "    accuracy = sum(y == y_hat) / nvalues\n",
    "    return accuracy"
   ]
  },
  {
   "cell_type": "code",
   "execution_count": 34,
   "metadata": {},
   "outputs": [],
   "source": [
    "# (b) import data\n",
    "x_train_low = np.loadtxt(\"A2_X_train_low.csv\", delimiter=',')\n",
    "y_train_low = np.loadtxt(\"A2_y_train_low.csv\", delimiter=',')\n",
    "x_train_high = np.loadtxt(\"A2_X_train_high.csv\", delimiter=',')\n",
    "y_train_high = np.loadtxt(\"A2_y_train_high.csv\", delimiter=',')\n",
    "x_test_low = np.loadtxt(\"A2_X_test_low.csv\", delimiter=',')\n",
    "y_test_low = np.loadtxt(\"A2_y_test_low.csv\", delimiter=',')\n",
    "x_test_high = np.loadtxt(\"A2_X_test_high.csv\", delimiter=',')\n",
    "y_test_high = np.loadtxt(\"A2_y_test_high.csv\", delimiter=',')"
   ]
  },
  {
   "cell_type": "code",
   "execution_count": 54,
   "metadata": {},
   "outputs": [
    {
     "name": "stdout",
     "output_type": "stream",
     "text": [
      "Low dimension precision is 0.925\n",
      "Time usage : 10.4059 s\n",
      "High dimension precision is 0.993\n",
      "Time usage : 10.2572 s\n"
     ]
    }
   ],
   "source": [
    "# (c) train classifier\n",
    "import time\n",
    "k = 5\n",
    "begin_low = time.time()\n",
    "low = Knn()\n",
    "low.fit(x_train_low, y_train_low)\n",
    "low_y = low.predict(x_test_low, k)\n",
    "end_low = time.time()\n",
    "print(\"Low dimension precision is\", accuracy(y_test_low, low_y))\n",
    "print(\"Time usage : %.4f s\" % (end_low - begin_low))\n",
    "\n",
    "begin_high = time.time()\n",
    "high = Knn()\n",
    "high.fit(x_train_high,y_train_high)\n",
    "high_y = high.predict(x_test_high,k)\n",
    "end_high = time.time()\n",
    "print(\"High dimension precision is\", accuracy(y_test_high, high_y))\n",
    "print(\"Time usage : %.4f s\" % (end_high - begin_high))\n"
   ]
  },
  {
   "cell_type": "code",
   "execution_count": 53,
   "metadata": {},
   "outputs": [
    {
     "name": "stdout",
     "output_type": "stream",
     "text": [
      "Low dimension precision is 0.925\n",
      "Time usage : 0.0020 s\n",
      "High dimension precision is 0.993\n",
      "Time usage : 0.0028 s\n"
     ]
    }
   ],
   "source": [
    "#(d)accuracy and time usage comparision\n",
    "\n",
    "from sklearn.neighbors import KNeighborsClassifier\n",
    "\n",
    "begin_low = time.time()\n",
    "\n",
    "knn_low =  KNeighborsClassifier(n_neighbors=5)\n",
    "knn_low.fit(x_train_low, y_train_low)\n",
    "end_low = time.time()\n",
    "\n",
    "print(\"Low dimension precision is\", knn_low.score(x_test_low, y_test_low))\n",
    "print(\"Time usage : %.4f s\" % (end_low - begin_low))\n",
    "\n",
    "\n",
    "begin_high = time.time()\n",
    "knn_high =  KNeighborsClassifier(n_neighbors=5)\n",
    "knn_high.fit(x_train_high,y_train_high)\n",
    "end_high = time.time()\n",
    "\n",
    "print(\"High dimension precision is\", knn_high.score(x_test_high, y_test_high))\n",
    "print(\"Time usage : %.4f s\" % (end_high - begin_high))"
   ]
  },
  {
   "cell_type": "markdown",
   "metadata": {},
   "source": [
    "**(e)**\n",
    "\n",
    "The drawbacks of the prediction process being slow could impact deals or transactions relying on real-time decision making. The change in rate in stock markets or auction, for example, are highly subject to fast and accurate decsion making process to secure a profitable deal. This is the reason why prediction being fast is of importance."
   ]
  },
  {
   "cell_type": "markdown",
   "metadata": {},
   "source": [
    "## 5\n",
    "**[20 points] Bias-variance tradeoff I: Understanding the tradeoff**. This exercise will illustrate the impact of the bias-variance tradeoff on classifier performance by looking at classifier decision boundaries.\n",
    "\n",
    "**(a)** Create a synthetic dataset (with both features and targets). Use the [`make_moons`](http://scikit-learn.org/stable/modules/generated/sklearn.datasets.make_moons.html#sklearn.datasets.make_moons) module with the parameter `noise=0.35` to generate 1000 random samples.\n",
    "\n",
    "**(b)** Scatterplot your random samples with each class in a different color\n",
    "\n",
    "**(c)** Create 3 different data subsets by selecting 100 of the 1000 data points at random three times. For each of these 100-sample datasets, fit three k-Nearest Neighbor classifiers with: $k = \\{1, 25, 50\\}$. This will result in 9 combinations (3 datasets, with 3 trained classifiers).\n",
    "\n",
    "**(d)** For each combination of dataset trained classifier, in a 3-by-3 grid, plot the decision boundary (similar in style to Figure 2.15 from *Introduction to Statistical Learning*). Each column should represent a different value of $k$ and each row should represent a different dataset.\n",
    "\n",
    "**(e)** What do you notice about the difference between the rows and the columns. Which decision boundaries appear to best separate the two classes of data? Which decision boundaries vary the most as the data change?\n",
    "\n",
    "**(f)** Explain the bias-variance tradeoff using the example of the plots you made in this exercise."
   ]
  },
  {
   "cell_type": "code",
   "execution_count": 17,
   "metadata": {},
   "outputs": [],
   "source": [
    "#(a) create synthetic dataset\n",
    "from sklearn import datasets\n",
    "\n",
    "from plotnine import *\n",
    "import sklearn\n",
    "np.random.seed(1)\n",
    "x, y  = sklearn.datasets.make_moons(1000, noise=0.35)\n",
    "\n",
    "x1 = x[:,0]\n",
    "x2 = x[:,1]"
   ]
  },
  {
   "cell_type": "code",
   "execution_count": null,
   "metadata": {},
   "outputs": [],
   "source": []
  },
  {
   "cell_type": "code",
   "execution_count": 6,
   "metadata": {},
   "outputs": [
    {
     "data": {
      "image/png": "[encoded data removed]",
      "text/plain": [
       "<Figure size 432x288 with 1 Axes>"
      ]
     },
     "metadata": {
      "needs_background": "light"
     },
     "output_type": "display_data"
    }
   ],
   "source": [
    "#(b) scatterplot the random sample created\n",
    "\n",
    "import matplotlib.pyplot as plt\n",
    "\n",
    "\n",
    "plt.scatter(x1[y == 0], x2[y == 0], c='g',label = '0')\n",
    "plt.scatter(x1[y == 1], x2[y == 1], c='r',label = '1')\n",
    "\n",
    "plt.title(\"Synthetic Data Scatter Plot\")\n",
    "plt.xlabel(\"variable x1\")\n",
    "plt.ylabel(\"variable x2\")\n",
    "plt.legend()\n",
    "plt.show()"
   ]
  },
  {
   "cell_type": "code",
   "execution_count": 7,
   "metadata": {},
   "outputs": [],
   "source": [
    "#(c)\n",
    "a1 = np.random.choice(1000, 100)\n",
    "a2 = np.random.choice(1000, 100)\n",
    "a3 = np.random.choice(1000, 100)\n",
    "\n",
    "x1 = x[a1]\n",
    "y1 = y[a1]\n",
    "x1_1 = x1[:,0]\n",
    "x1_2 = x1[:,1]\n",
    "\n",
    "x2 = x[a2]\n",
    "y2 = y[a2]\n",
    "x2_1 = x2[:,0]\n",
    "x2_2 = x2[:,1]\n",
    "\n",
    "x3 = x[a3]\n",
    "y3 = y[a3]\n",
    "x3_1 = x3[:,0]\n",
    "x3_2 = x3[:,1]\n",
    "\n",
    "\n",
    "N_grid = 501\n",
    "grid_x = np.linspace(-2, 3, N_grid)\n",
    "grid_y = np.linspace(-2, 2, N_grid)\n",
    "XX, YY = np.meshgrid(grid_x, grid_y)\n",
    "x_pre = np.stack((XX.flatten(), YY.flatten()), axis = -1)"
   ]
  },
  {
   "cell_type": "code",
   "execution_count": 8,
   "metadata": {},
   "outputs": [],
   "source": [
    "import sklearn\n",
    "import numpy as np\n",
    "from sklearn import datasets\n",
    "\n",
    "a1 = np.random.choice(1000, 100)\n",
    "a2 = np.random.choice(1000, 100)\n",
    "a3 = np.random.choice(1000, 100)\n",
    "\n",
    "np.random.seed(1)\n",
    "x, y  = sklearn.datasets.make_moons(1000, noise=0.35)\n",
    "\n",
    "x1 = x[a1]\n",
    "# list中有list，每个子list中有两个值\n",
    "\n",
    "y1 = y[a1]\n",
    "#就是一个list，其中有binary的值\n",
    "\n",
    "x1_1 = x1[:,0]\n",
    "x1_2 = x1[:,1]\n",
    "\n",
    "x2 = x[a2]\n",
    "y2 = y[a2]\n",
    "x2_1 = x2[:,0]\n",
    "x2_2 = x2[:,1]\n",
    "\n",
    "x3 = x[a3]\n",
    "y3 = y[a3]\n",
    "x3_1 = x3[:,0]\n",
    "x3_2 = x3[:,1]\n",
    "\n",
    "\n",
    "N_grid = 501\n",
    "grid_x = np.linspace(-2, 3, N_grid)\n",
    "grid_y = np.linspace(-2, 2, N_grid)\n",
    "#创建等差数列 为什么是-2和3？就是各自一个list\n",
    "#然后建立grid 用来作图\n",
    "\n",
    "#x_cord, y_cord = np.meshgrid(grid_x, grid_y)\n",
    "\n",
    "#x_pre = np.stack((XX.flatten(), YY.flatten()), axis = 1)\n"
   ]
  },
  {
   "cell_type": "code",
   "execution_count": 10,
   "metadata": {},
   "outputs": [
    {
     "data": {
      "text/plain": [
       "array([[[1, 2, 3],\n",
       "        [1, 2, 3],\n",
       "        [1, 2, 3]],\n",
       "\n",
       "       [[4, 5, 6],\n",
       "        [4, 5, 6],\n",
       "        [4, 5, 6]]])"
      ]
     },
     "execution_count": 10,
     "metadata": {},
     "output_type": "execute_result"
    }
   ],
   "source": [
    "\n",
    "a = np.array([[1, 2, 3], [1, 2, 3], [1, 2, 3]])\n",
    "b = np.array([[4, 5, 6], [4, 5, 6], [4, 5, 6]])\n",
    "\n",
    "c= np.stack((a, b), axis=0)\n",
    "d= np.stack((a, b), axis=1)\n",
    "\n",
    "e = np.stack((a, b), axis=2)\n",
    "c#就是横着叠起来---数字就是选择在哪里增加维度"
   ]
  },
  {
   "cell_type": "code",
   "execution_count": 11,
   "metadata": {},
   "outputs": [
    {
     "data": {
      "text/plain": [
       "array([[[1, 2, 3],\n",
       "        [4, 5, 6]],\n",
       "\n",
       "       [[1, 2, 3],\n",
       "        [4, 5, 6]],\n",
       "\n",
       "       [[1, 2, 3],\n",
       "        [4, 5, 6]]])"
      ]
     },
     "execution_count": 11,
     "metadata": {},
     "output_type": "execute_result"
    }
   ],
   "source": [
    "d#横着切开竖着叠起来"
   ]
  },
  {
   "cell_type": "code",
   "execution_count": 12,
   "metadata": {},
   "outputs": [
    {
     "data": {
      "text/plain": [
       "array([[[1, 4],\n",
       "        [2, 5],\n",
       "        [3, 6]],\n",
       "\n",
       "       [[1, 4],\n",
       "        [2, 5],\n",
       "        [3, 6]],\n",
       "\n",
       "       [[1, 4],\n",
       "        [2, 5],\n",
       "        [3, 6]]])"
      ]
     },
     "execution_count": 12,
     "metadata": {},
     "output_type": "execute_result"
    }
   ],
   "source": [
    "e#横着切开再切开 竖着叠起来"
   ]
  },
  {
   "cell_type": "code",
   "execution_count": 23,
   "metadata": {},
   "outputs": [],
   "source": [
    "x_cord, y_cord = np.meshgrid(grid_x, grid_y)\n",
    "\n",
    "x_pre = np.stack((a, b), axis = -1)\n",
    "\n"
   ]
  },
  {
   "cell_type": "code",
   "execution_count": 21,
   "metadata": {},
   "outputs": [
    {
     "data": {
      "text/plain": [
       "(251001,)"
      ]
     },
     "execution_count": 21,
     "metadata": {},
     "output_type": "execute_result"
    }
   ],
   "source": [
    "a = np.array([[1, 2, 3], [1, 2, 3], [1, 2, 3]])\n",
    "b = np.array([[4, 5, 6], [4, 5, 6], [4, 5, 6]])"
   ]
  },
  {
   "cell_type": "code",
   "execution_count": 29,
   "metadata": {},
   "outputs": [
    {
     "data": {
      "text/plain": [
       "array([[-2.  , -2.  ],\n",
       "       [-1.99, -2.  ],\n",
       "       [-1.98, -2.  ],\n",
       "       ...,\n",
       "       [ 2.98,  2.  ],\n",
       "       [ 2.99,  2.  ],\n",
       "       [ 3.  ,  2.  ]])"
      ]
     },
     "execution_count": 29,
     "metadata": {},
     "output_type": "execute_result"
    }
   ],
   "source": [
    "x_pre3 = np.stack((XX.flatten(), YY.flatten()), axis = -1)\n",
    "x_pre3 "
   ]
  },
  {
   "cell_type": "code",
   "execution_count": 21,
   "metadata": {},
   "outputs": [],
   "source": [
    "# 咱们先顶一个一个函数来画决策边界\n",
    "\n",
    "def plot_decision_boundary(pred_func):\n",
    " \n",
    " # 设定最大最小值，附加一点点边缘填充\n",
    "    x_min, x_max = x1[:, 0].min() - .5, x1[:, 0].max() + .5\n",
    "    #y_min, y_max = y1[:, 0].min() - .5, y1[:, 0].max() + .5\n",
    "    h = 0.01\n",
    " \n",
    "    xx, yy = np.meshgrid(np.arange(x_min, x_max, h), np.arange(x_min, x_max, h))\n",
    " \n",
    " # 用预测函数预测一下\n",
    "    #Z = pred_func(np.c_[xx.ravel(), yy.ravel()])\n",
    "   # Z = Z.reshape(xx.shape)\n",
    " \n",
    " # 然后画出图\n",
    "    plt.contourf(xx, yy, Z, cmap=plt.cm.Spectral)\n",
    "    plt.scatter(x1[:, 0], x1[:, 1], c=y, cmap=plt.cm.Spectral)"
   ]
  },
  {
   "cell_type": "code",
   "execution_count": 15,
   "metadata": {},
   "outputs": [
    {
     "data": {
      "image/png": "[encoded data removed]",
      "text/plain": [
       "<Figure size 432x288 with 1 Axes>"
      ]
     },
     "metadata": {
      "needs_background": "light"
     },
     "output_type": "display_data"
    }
   ],
   "source": [
    "import sklearn\n",
    "import numpy as np\n",
    "import matplotlib.pyplot as plt\n",
    "from sklearn import datasets\n",
    "plt.scatter(x1[:,0], x1[:,1],c=y1,s=40, cmap=plt.cm.Spectral)\n",
    "plt.show()"
   ]
  },
  {
   "cell_type": "code",
   "execution_count": 22,
   "metadata": {},
   "outputs": [
    {
     "ename": "NameError",
     "evalue": "name 'Z' is not defined",
     "output_type": "error",
     "traceback": [
      "\u001b[0;31m---------------------------------------------------------------------------\u001b[0m",
      "\u001b[0;31mNameError\u001b[0m                                 Traceback (most recent call last)",
      "\u001b[0;32m<ipython-input-22-6c0c7324d660>\u001b[0m in \u001b[0;36m<module>\u001b[0;34m\u001b[0m\n\u001b[1;32m      5\u001b[0m \u001b[0;34m\u001b[0m\u001b[0m\n\u001b[1;32m      6\u001b[0m \u001b[0;31m# 画一下决策边界\u001b[0m\u001b[0;34m\u001b[0m\u001b[0;34m\u001b[0m\u001b[0;34m\u001b[0m\u001b[0m\n\u001b[0;32m----> 7\u001b[0;31m \u001b[0mplot_decision_boundary\u001b[0m\u001b[0;34m(\u001b[0m\u001b[0;32mlambda\u001b[0m \u001b[0mx\u001b[0m\u001b[0;34m:\u001b[0m \u001b[0mclf\u001b[0m\u001b[0;34m.\u001b[0m\u001b[0mpredict\u001b[0m\u001b[0;34m(\u001b[0m\u001b[0mx1\u001b[0m\u001b[0;34m)\u001b[0m\u001b[0;34m)\u001b[0m\u001b[0;34m\u001b[0m\u001b[0;34m\u001b[0m\u001b[0m\n\u001b[0m\u001b[1;32m      8\u001b[0m \u001b[0mplt\u001b[0m\u001b[0;34m.\u001b[0m\u001b[0mtitle\u001b[0m\u001b[0;34m(\u001b[0m\u001b[0;34m\"Logistic Regression\"\u001b[0m\u001b[0;34m)\u001b[0m\u001b[0;34m\u001b[0m\u001b[0;34m\u001b[0m\u001b[0m\n\u001b[1;32m      9\u001b[0m \u001b[0mplt\u001b[0m\u001b[0;34m.\u001b[0m\u001b[0mshow\u001b[0m\u001b[0;34m(\u001b[0m\u001b[0;34m)\u001b[0m\u001b[0;34m\u001b[0m\u001b[0;34m\u001b[0m\u001b[0m\n",
      "\u001b[0;32m<ipython-input-21-27f976a78dae>\u001b[0m in \u001b[0;36mplot_decision_boundary\u001b[0;34m(pred_func)\u001b[0m\n\u001b[1;32m     15\u001b[0m \u001b[0;34m\u001b[0m\u001b[0m\n\u001b[1;32m     16\u001b[0m  \u001b[0;31m# 然后画出图\u001b[0m\u001b[0;34m\u001b[0m\u001b[0;34m\u001b[0m\u001b[0;34m\u001b[0m\u001b[0m\n\u001b[0;32m---> 17\u001b[0;31m     \u001b[0mplt\u001b[0m\u001b[0;34m.\u001b[0m\u001b[0mcontourf\u001b[0m\u001b[0;34m(\u001b[0m\u001b[0mxx\u001b[0m\u001b[0;34m,\u001b[0m \u001b[0myy\u001b[0m\u001b[0;34m,\u001b[0m \u001b[0mZ\u001b[0m\u001b[0;34m,\u001b[0m \u001b[0mcmap\u001b[0m\u001b[0;34m=\u001b[0m\u001b[0mplt\u001b[0m\u001b[0;34m.\u001b[0m\u001b[0mcm\u001b[0m\u001b[0;34m.\u001b[0m\u001b[0mSpectral\u001b[0m\u001b[0;34m)\u001b[0m\u001b[0;34m\u001b[0m\u001b[0;34m\u001b[0m\u001b[0m\n\u001b[0m\u001b[1;32m     18\u001b[0m     \u001b[0mplt\u001b[0m\u001b[0;34m.\u001b[0m\u001b[0mscatter\u001b[0m\u001b[0;34m(\u001b[0m\u001b[0mx1\u001b[0m\u001b[0;34m[\u001b[0m\u001b[0;34m:\u001b[0m\u001b[0;34m,\u001b[0m \u001b[0;36m0\u001b[0m\u001b[0;34m]\u001b[0m\u001b[0;34m,\u001b[0m \u001b[0mx1\u001b[0m\u001b[0;34m[\u001b[0m\u001b[0;34m:\u001b[0m\u001b[0;34m,\u001b[0m \u001b[0;36m1\u001b[0m\u001b[0;34m]\u001b[0m\u001b[0;34m,\u001b[0m \u001b[0mc\u001b[0m\u001b[0;34m=\u001b[0m\u001b[0my\u001b[0m\u001b[0;34m,\u001b[0m \u001b[0mcmap\u001b[0m\u001b[0;34m=\u001b[0m\u001b[0mplt\u001b[0m\u001b[0;34m.\u001b[0m\u001b[0mcm\u001b[0m\u001b[0;34m.\u001b[0m\u001b[0mSpectral\u001b[0m\u001b[0;34m)\u001b[0m\u001b[0;34m\u001b[0m\u001b[0;34m\u001b[0m\u001b[0m\n",
      "\u001b[0;31mNameError\u001b[0m: name 'Z' is not defined"
     ]
    }
   ],
   "source": [
    "from sklearn.neighbors import KNeighborsClassifier\n",
    "#咱们先来瞄一眼逻辑斯特回归对于它的分类效果\n",
    "clf = KNeighborsClassifier(n_neighbors=1)\n",
    "clf.fit(x1, y1)\n",
    " \n",
    "# 画一下决策边界\n",
    "plot_decision_boundary(lambda x: clf.predict(x1))\n",
    "plt.title(\"Logistic Regression\")\n",
    "plt.show()"
   ]
  },
  {
   "cell_type": "code",
   "execution_count": 4,
   "metadata": {},
   "outputs": [
    {
     "ename": "ModuleNotFoundError",
     "evalue": "No module named 'numpy'",
     "output_type": "error",
     "traceback": [
      "\u001b[0;31m---------------------------------------------------------------------------\u001b[0m",
      "\u001b[0;31mModuleNotFoundError\u001b[0m                       Traceback (most recent call last)",
      "\u001b[0;32m<ipython-input-4-6d672d77567f>\u001b[0m in \u001b[0;36m<module>\u001b[0;34m\u001b[0m\n\u001b[0;32m----> 1\u001b[0;31m \u001b[0;32mimport\u001b[0m \u001b[0mnumpy\u001b[0m \u001b[0;32mas\u001b[0m \u001b[0mnp\u001b[0m\u001b[0;34m\u001b[0m\u001b[0;34m\u001b[0m\u001b[0m\n\u001b[0m\u001b[1;32m      2\u001b[0m \u001b[0;32mimport\u001b[0m \u001b[0mmatplotlib\u001b[0m\u001b[0;34m.\u001b[0m\u001b[0mpyplot\u001b[0m \u001b[0;32mas\u001b[0m \u001b[0mplt\u001b[0m\u001b[0;34m\u001b[0m\u001b[0;34m\u001b[0m\u001b[0m\n\u001b[1;32m      3\u001b[0m \u001b[0;32mfrom\u001b[0m \u001b[0mmatplotlib\u001b[0m\u001b[0;34m.\u001b[0m\u001b[0mcolors\u001b[0m \u001b[0;32mimport\u001b[0m \u001b[0mListedColormap\u001b[0m\u001b[0;34m\u001b[0m\u001b[0;34m\u001b[0m\u001b[0m\n\u001b[1;32m      4\u001b[0m \u001b[0;32mfrom\u001b[0m \u001b[0msklearn\u001b[0m \u001b[0;32mimport\u001b[0m \u001b[0mneighbors\u001b[0m\u001b[0;34m,\u001b[0m \u001b[0mdatasets\u001b[0m\u001b[0;34m\u001b[0m\u001b[0;34m\u001b[0m\u001b[0m\n\u001b[1;32m      5\u001b[0m \u001b[0;34m\u001b[0m\u001b[0m\n",
      "\u001b[0;31mModuleNotFoundError\u001b[0m: No module named 'numpy'"
     ]
    }
   ],
   "source": [
    "import numpy as np\n",
    "import matplotlib.pyplot as plt\n",
    "from matplotlib.colors import ListedColormap\n",
    "from sklearn import neighbors, datasets\n",
    "\n",
    "h = .02\n",
    "\n",
    "\n",
    "\n",
    "cmap_light = ListedColormap(['orange', 'cornflowerblue'])\n",
    "cmap_bold = ListedColormap(['darkorange',  'darkblue'])\n",
    "\n",
    "x_min, x_max = x1[:, 0].min() - 1, x1[:, 0].max() + 1\n",
    "\n",
    "xx, yy = np.meshgrid(np.arange(x_min, x_max, h),\n",
    "                         np.arange(x_min, x_max, h))\n",
    "\n",
    "\n",
    "def plot(xx,yy,k,x,y):\n",
    "    clf = neighbors.KNeighborsClassifier(n_neighbors=k)\n",
    "    clf.fit(x1, y1)\n",
    "    Z = clf.predict(np.c_[xx.ravel(), yy.ravel()])\n",
    "\n",
    "    Z = Z.reshape(xx.shape)\n",
    "    plt.figure()\n",
    "    plt.pcolormesh(xx, yy, Z, cmap=cmap_light)\n",
    "\n",
    "    plt.scatter(x[:, 0], x[:, 1], c=y, cmap=cmap_bold,\n",
    "                edgecolor='k', s=20)\n",
    "    plt.xlim(xx.min(), xx.max())\n",
    "    plt.ylim(yy.min(), yy.max())\n",
    "    plt.title(\"2-Class classification (k = %i)\"\n",
    "              % (n_neighbors))\n",
    "\n",
    "\n",
    "\n",
    "\n",
    "\n",
    "\n",
    "fig, axs = plt.subplots(3, 3, figsize = (15, 12))\n",
    "\n",
    "\n",
    "\n",
    "plot(xx,yy,1,x1, y1)\n",
    "plot(xx,yy,1,x2, y2)\n",
    "plot(xx,yy,1,x3, y3)\n",
    "plot(xx,yy,25,x1, y1)\n",
    "plot(xx,yy,25,x2, y2)\n",
    "plot(xx,yy,25,x3, y3)\n",
    "plot(xx,yy,50,x1, y1)\n",
    "plot(xx,yy,50,x2, y2)\n",
    "plot(xx,yy,50,x3, y3)\n",
    "\n",
    "\n",
    "\n",
    "\n",
    "fig.suptitle(\"KNN Boundaries for Differnt Choice of K on Different Random Samples\", fontsize = 24)\n",
    "plt.tight_layout(pad = 6, h_pad = 0.5, w_pad = 1)\n",
    "plt.show()"
   ]
  },
  {
   "cell_type": "markdown",
   "metadata": {},
   "source": [
    "**ANSWER**"
   ]
  },
  {
   "cell_type": "code",
   "execution_count": 11,
   "metadata": {},
   "outputs": [
    {
     "ename": "NameError",
     "evalue": "name 'x' is not defined",
     "output_type": "error",
     "traceback": [
      "\u001b[0;31m---------------------------------------------------------------------------\u001b[0m",
      "\u001b[0;31mNameError\u001b[0m                                 Traceback (most recent call last)",
      "\u001b[0;32m<ipython-input-11-553143f67f51>\u001b[0m in \u001b[0;36m<module>\u001b[0;34m\u001b[0m\n\u001b[1;32m     10\u001b[0m \u001b[0ma3\u001b[0m \u001b[0;34m=\u001b[0m \u001b[0mnp\u001b[0m\u001b[0;34m.\u001b[0m\u001b[0mrandom\u001b[0m\u001b[0;34m.\u001b[0m\u001b[0mchoice\u001b[0m\u001b[0;34m(\u001b[0m\u001b[0;36m1000\u001b[0m\u001b[0;34m,\u001b[0m \u001b[0;36m100\u001b[0m\u001b[0;34m)\u001b[0m\u001b[0;34m\u001b[0m\u001b[0;34m\u001b[0m\u001b[0m\n\u001b[1;32m     11\u001b[0m \u001b[0;34m\u001b[0m\u001b[0m\n\u001b[0;32m---> 12\u001b[0;31m \u001b[0mx1\u001b[0m \u001b[0;34m=\u001b[0m \u001b[0mx\u001b[0m\u001b[0;34m[\u001b[0m\u001b[0ma1\u001b[0m\u001b[0;34m]\u001b[0m\u001b[0;34m\u001b[0m\u001b[0;34m\u001b[0m\u001b[0m\n\u001b[0m\u001b[1;32m     13\u001b[0m \u001b[0my1\u001b[0m \u001b[0;34m=\u001b[0m \u001b[0my\u001b[0m\u001b[0;34m[\u001b[0m\u001b[0ma1\u001b[0m\u001b[0;34m]\u001b[0m\u001b[0;34m\u001b[0m\u001b[0;34m\u001b[0m\u001b[0m\n\u001b[1;32m     14\u001b[0m \u001b[0mx1_1\u001b[0m \u001b[0;34m=\u001b[0m \u001b[0mx1\u001b[0m\u001b[0;34m[\u001b[0m\u001b[0;34m:\u001b[0m\u001b[0;34m,\u001b[0m\u001b[0;36m0\u001b[0m\u001b[0;34m]\u001b[0m\u001b[0;34m\u001b[0m\u001b[0;34m\u001b[0m\u001b[0m\n",
      "\u001b[0;31mNameError\u001b[0m: name 'x' is not defined"
     ]
    }
   ],
   "source": [
    "#(d)\n",
    "from sklearn.neighbors import KNeighborsClassifier\n",
    "from matplotlib import cm\n",
    "\n",
    "np.random.seed(1)\n",
    "\n",
    "\n",
    "a1 = np.random.choice(1000, 100)\n",
    "a2 = np.random.choice(1000, 100)\n",
    "a3 = np.random.choice(1000, 100)\n",
    "\n",
    "x1 = x[a1]\n",
    "y1 = y[a1]\n",
    "x1_1 = x1[:,0]\n",
    "x1_2 = x1[:,1]\n",
    "\n",
    "x2 = x[a2]\n",
    "y2 = y[a2]\n",
    "x2_1 = x2[:,0]\n",
    "x2_2 = x2[:,1]\n",
    "\n",
    "x3 = x[a3]\n",
    "y3 = y[a3]\n",
    "x3_1 = x3[:,0]\n",
    "x3_2 = x3[:,1]\n",
    "    \n",
    "h = .02\n",
    "x_min, x_max = x1[:, 0].min() - 1, x1[:, 0].max() + 1\n",
    "xx, yy = np.meshgrid(np.arange(x_min, x_max, h),\n",
    "                         np.arange(x_min, x_max, h))\n",
    "    \n",
    "\n",
    "def plot(no, xx, yy, x, x1, x2, y, s, k):\n",
    "    \n",
    "    knn = KNeighborsClassifier(n_neighbors=k)\n",
    "    knn.fit(x, y)\n",
    "    x_coord = np.stack((xx.flatten(), yy.flatten()), axis = 1)\n",
    "    y_coord = knn.predict(x_coord)\n",
    "    y_coord = y_coord.reshape(len(xx),len(yy))\n",
    "    \n",
    "    no.contour(xx,yy,y_coord)\n",
    "    no.contourf(xx, yy, y_coord, cmap=cm.PiYG,alpha = 0.2)\n",
    "    \n",
    "    no.scatter(x1[np.where(y == 1)], x2[np.where(y == 1)], marker='.', label = '0', c='green')\n",
    "    no.scatter(x1[np.where(y == 0)], x2[np.where(y == 0)] , marker='.', label = '1', c='red')\n",
    "    no.legend()\n",
    "    \n",
    "    no.contour(xx,yy,y_coord)\n",
    "    no.contourf(xx, yy, y_coord, cmap=cm.PiYG,alpha = 0.1)\n",
    "    \n",
    "    no.set_title(\"sample No. %d with k being %d\" % (s, k))\n",
    "    \n",
    "\n",
    "      \n",
    "\n",
    "fig, axs = plt.subplots(3, 3, figsize = (20, 18))\n",
    "\n",
    "plot(axs[0,0],xx,yy,x1, x1_1, x1_2, y1, 1, 1)\n",
    "plot(axs[1,0],xx,yy,x2, x2_1, x2_2, y2, 2, 1)\n",
    "plot(axs[2,0],xx,yy,x3, x3_1, x3_2, y3, 3, 1)\n",
    "plot(axs[0,1],xx,yy,x1, x1_1, x1_2, y1, 1, 25)\n",
    "plot(axs[1,1],xx,yy,x2, x2_1, x2_2, y2, 2, 25)\n",
    "plot(axs[2,1],xx,yy,x3, x3_1, x3_2, y3, 3, 25)\n",
    "plot(axs[0,2],xx,yy,x1, x1_1, x1_2, y1, 1, 50)\n",
    "plot(axs[1,2],xx,yy,x2, x2_1, x2_2, y2, 2, 50)\n",
    "plot(axs[2,2],xx,yy,x3, x3_1, x3_2, y3, 3, 50)\n",
    "\n",
    "fig.suptitle(\"KNN Boundaries for Differnt Choice of K on Different Random Samples\", fontsize = 20)\n",
    "\n",
    "\n",
    "plt.show()\n",
    "\n"
   ]
  },
  {
   "cell_type": "code",
   "execution_count": null,
   "metadata": {},
   "outputs": [],
   "source": []
  },
  {
   "cell_type": "code",
   "execution_count": 38,
   "metadata": {},
   "outputs": [
    {
     "name": "stdout",
     "output_type": "stream",
     "text": [
      "501 501 251001\n"
     ]
    }
   ],
   "source": [
    "N_grid = 501\n",
    "grid_x = np.linspace(-2, 3, N_grid)\n",
    "grid_y = np.linspace(-2, 2, N_grid)\n",
    "XX, YY = np.meshgrid(grid_x, grid_y)\n",
    "x_pre = np.stack((XX.flatten(), YY.flatten()), axis = -1)\n",
    "print(len(XX),len(YY),len(x_pre))\n",
    "\n",
    "\n"
   ]
  },
  {
   "cell_type": "code",
   "execution_count": 40,
   "metadata": {},
   "outputs": [],
   "source": [
    "def KNN_PRE(x, y, x_pre, k, N):\n",
    "    knn = KNeighborsClassifier(n_neighbors=k)\n",
    "    knn.fit(x, y)\n",
    "    y_pre = knn.predict(x_pre)\n",
    "    y_pre = y_pre.reshape(N, N)\n",
    "    return knn, y_pre\n",
    "\n",
    "# sample 1\n",
    "knn1_1, Z1_1 = KNN_PRE(x1, y1, x_pre, 1, N_grid)\n",
    "knn1_25, Z1_25 = KNN_PRE(x1, y1, x_pre, 25, N_grid)\n",
    "knn1_50, Z1_50 = KNN_PRE(x1, y1, x_pre, 50, N_grid)\n"
   ]
  },
  {
   "cell_type": "code",
   "execution_count": 41,
   "metadata": {},
   "outputs": [
    {
     "name": "stdout",
     "output_type": "stream",
     "text": [
      "501 501\n"
     ]
    }
   ],
   "source": [
    "print(len(Z1_1),len(Z1_25))"
   ]
  },
  {
   "cell_type": "markdown",
   "metadata": {},
   "source": [
    "**(e)**\n",
    "\n",
    "The smaller the value of K, the more difference is observed within each column. The bigger the value of K, the smoother the decision boundary is. When $K=25$, the boundary seems to be the optimal for the generated dataset. The most varied boundary is occurred when $K=1$."
   ]
  },
  {
   "cell_type": "markdown",
   "metadata": {},
   "source": [
    "**(f)**\n",
    "\n",
    "The bias-variance tradeoff means that with a more flexible model, we are better able to capture the more subtle relationships in the training dataset and have lower bias, but will result in a higher variance in the test dataset due to overfitting. If we apply an inflexible model, the model bias may be higher, failing to capture certain features of the training dataset but will yield a lower variance instead with a more stable performance on the test dataset. As is shown in the plot above, column 1 with $K=1$ has the most differentiated plots of all three (high variance and low bias) while column 3 with $K=50$ shows the most similar set of plots (high bias and low variance).\n"
   ]
  },
  {
   "cell_type": "markdown",
   "metadata": {},
   "source": [
    "## 6\n",
    "**[20 points] Bias-variance trade-off II: Quantifying the tradeoff**. This exercise will explore the impact of the bias-variance tradeoff on classifier performance by looking at classifier decision boundaries.\n",
    "\n",
    "Here, the value of $k$ determines how flexible our model is.\n",
    "\n",
    "**(a)** Using the function created earlier to generate random samples (using the `make_moons` function), create a new set of 1000 random samples, and call this dataset your test set and the previously created dataset your training set.\n",
    "\n",
    "**(b)** Train a kNN classifier on your training set for $k = 1,2,...500$. Apply each of these trained classifiers to both your training dataset and your test dataset and plot the classification error (fraction of mislabeled datapoints).\n",
    "\n",
    "**(c)** What trend do you see in the results?\n",
    "\n",
    "**(d)** What values of $k$ represent high bias and which represent high variance?\n",
    "\n",
    "**(e)** What is the optimal value of $k$ and why?\n",
    "\n",
    "**(f)** In kNN classifiers, the value of k controls the flexibility of the model - what controls the flexibility of other models?"
   ]
  },
  {
   "cell_type": "markdown",
   "metadata": {},
   "source": [
    "**ANSWER**"
   ]
  },
  {
   "cell_type": "code",
   "execution_count": 20,
   "metadata": {},
   "outputs": [],
   "source": [
    "#(a)\n",
    "import sklearn\n",
    "import numpy as np\n",
    "from sklearn import datasets\n",
    "\n",
    "np.random.seed(2)\n",
    "x_test,y_test = sklearn.datasets.make_moons(1000)"
   ]
  },
  {
   "cell_type": "code",
   "execution_count": 46,
   "metadata": {},
   "outputs": [],
   "source": [
    "#(b)\n",
    "from sklearn.neighbors import KNeighborsClassifier\n",
    "\n",
    "k = np.arange(1,501,1)\n",
    "error_values = []\n",
    "for i in k:\n",
    "    \n",
    "    knn = KNeighborsClassifier(n_neighbors = i)\n",
    "    knn.fit(x,y)\n",
    "    y_hat = knn.predict(x_test)\n",
    "    error = 1 - accuracy(y_test,y_hat)\n",
    "    error_values.append(error)"
   ]
  },
  {
   "cell_type": "code",
   "execution_count": null,
   "metadata": {},
   "outputs": [],
   "source": [
    "error_values2 = []\n",
    "for i in k:\n",
    "    \n",
    "    knn = KNeighborsClassifier(n_neighbors = i)\n",
    "    knn.fit(x,y)\n",
    "    y_hat = knn.predict(x_train)\n",
    "    error2 = 1 - accuracy(y_train,y_hat)\n",
    "    error_values2.append(error2)"
   ]
  },
  {
   "cell_type": "code",
   "execution_count": 37,
   "metadata": {},
   "outputs": [
    {
     "data": {
      "image/png": "[encoded data removed]",
      "text/plain": [
       "<Figure size 1440x720 with 1 Axes>"
      ]
     },
     "metadata": {
      "needs_background": "light"
     },
     "output_type": "display_data"
    }
   ],
   "source": [
    "import matplotlib.pyplot as plt\n",
    "fig = plt.figure(figsize = (20, 10))\n",
    "\n",
    "plt.plot(error_values,color = 'red')\n",
    "plt.xlabel(\"K ranging from 1 to 500\")\n",
    "plt.ylabel(\"error rate\")\n",
    "plt.title(\"Question 6: error rate for K in [0,500]\")\n",
    "\n",
    "plt.show()"
   ]
  },
  {
   "cell_type": "markdown",
   "metadata": {},
   "source": [
    "**(c)**\n",
    "\n",
    "It could be observed from the results that error rate dereases when the values of $K$ increases, but then goes up as $K$ continues to increase, suggesting an overfitting to the training dataset due to an over flexible model."
   ]
  },
  {
   "cell_type": "markdown",
   "metadata": {},
   "source": [
    "**(d)**\n",
    "\n",
    "A low value of $K$ represents high variance and low bias, meaning the model could capture more detailed relationships in the training set but will possibily lead to over-fitting on the test dataet. A high value of $K$ represents low variance and high bias, which means only the more general relationships are captured in the training set. Model may not be most accurate on the training set but will yield more stable results using test dataset.\n"
   ]
  },
  {
   "cell_type": "markdown",
   "metadata": {},
   "source": [
    "**(e)**"
   ]
  },
  {
   "cell_type": "code",
   "execution_count": 58,
   "metadata": {},
   "outputs": [
    {
     "name": "stdout",
     "output_type": "stream",
     "text": [
      "The minimal error is 0.02\n",
      "The corresponding K values is 23\n"
     ]
    }
   ],
   "source": [
    "optimal = error_values.index(min(error_values))+1\n",
    "\n",
    "print(\"The minimal error is\",min(error_values).round(3))\n",
    "print(\"The corresponding K values is\",optimal)"
   ]
  },
  {
   "cell_type": "markdown",
   "metadata": {},
   "source": [
    "The optimal $K$ value is the one that outputs the minimal error. The optimal $K$ in this case is 23 with a minimal error rate of 0.02."
   ]
  },
  {
   "cell_type": "markdown",
   "metadata": {},
   "source": [
    "**(f)**\n",
    "\n",
    "The parameters that control the flexibility in other models may include: \n",
    "\n",
    "The parameters in linear models;\n",
    "\n",
    "Choosing alpha in ridge/lasson models;\n",
    "\n",
    "The numbers of leaves in hierarchial clusterings."
   ]
  },
  {
   "cell_type": "markdown",
   "metadata": {},
   "source": [
    "## 7\n",
    "**[20 points] Linear regression and nonlinear transformations**. You're given training and testing data contained in files \"A2_Q7_train.csv\" and \"A2_Q7_test.csv\" in the \"data\" folder for this assignment. Your goal is to develop a regression algorithm from the training data that performs well on the test data.\n",
    "\n",
    "*Hint: Use the scikit learn [LinearRegression](http://scikit-learn.org/stable/modules/generated/sklearn.linear_model.LinearRegression.html) module.*\n",
    "\n",
    "**(a)** Create a scatter plot of your training data.\n",
    "\n",
    "**(b)** Estimate a linear regression model ($y = a_0 + a_1 x$) for the training data and calculate both the $R^2$ value and mean square error for the fit of that model for the training data. Also provide the equation representing the estimated model (e.g. $y = a_0 + a_1 x$, but with the estimated coefficients inserted.\n",
    "\n",
    "**(c)** If features can be nonlinearly transformed, a linear model may incorporate those non-linear feature transformation relationships in the training process. From looking at the scatter plot of the training data, choose a transformation of the predictor variable, $x$ that may make sense for these data. This will be a multiple regression model of the form $y = a_0 + a_1 x_1 + a_2 x_2 + \\ldots + a_n x_n$. Here $x_i$ could be any transformations of x - perhaps it's $\\frac{1}{x}$, $log(x)$, $sin(x)$, $x^k$ (where $k$ is any power of your choosing). Provide the estimated equation for this multiple regression model (e.g. if you chose your predictors to be $x_1 = x$ and $x_2 = log(x)$, your model would be of the form $y = a_0 + a_1 x + a_2 log(x)$. Also provide the $R^2$ and mean square error of the fit for the training data.\n",
    "\n",
    "**(d)** Using both of the models you created here in (b) and (c), plot the original data (as a scatter plot) and the two curves representing your models (each as a separate line).\n",
    "\n",
    "**(e)** Using the models above, apply them to the test data and estimate the $R^2$ and mean square error of the test dataset.\n",
    "\n",
    "**(f)** Which models perform better on the training data, and which on the test data? Why?\n",
    "\n",
    "**(g)** Imagine that the test data were significantly different from the training dataset. How might this affect the predictive capability of your model? Why?"
   ]
  },
  {
   "cell_type": "markdown",
   "metadata": {},
   "source": [
    "**ANSWER**"
   ]
  },
  {
   "cell_type": "code",
   "execution_count": 145,
   "metadata": {},
   "outputs": [
    {
     "data": {
      "image/png": "[encoded data removed]",
      "text/plain": [
       "<Figure size 432x288 with 1 Axes>"
      ]
     },
     "metadata": {
      "needs_background": "light"
     },
     "output_type": "display_data"
    }
   ],
   "source": [
    "#(a)\n",
    "import sklearn\n",
    "import numpy as np\n",
    "import matplotlib.pyplot as plt\n",
    "import pandas as pd\n",
    "\n",
    "x_7train = pd.read_csv('A2_Q7_train.csv')\n",
    "x_7test = pd.read_csv(\"A2_Q7_test.csv\")\n",
    "#x_7train = np.loadtxt(\"A2_Q7_train.csv\", delimiter=',')\n",
    "#x_7test = np.loadtxt(\"A2_Q7_test.csv\", delimiter=',')\n",
    "\n",
    "\n",
    "plt.scatter(x_7train[\"x\"],x_7train['y'],s=40)\n",
    "plt.xlabel(\"X in training data\")\n",
    "plt.ylabel(\"Y in training data\")\n",
    "plt.title(\"Question 7: scatter plot of training data\")\n",
    "plt.show()"
   ]
  },
  {
   "cell_type": "code",
   "execution_count": 153,
   "metadata": {
    "scrolled": true
   },
   "outputs": [
    {
     "name": "stdout",
     "output_type": "stream",
     "text": [
      "The r-squared value of the model is 0.0649\n",
      "The MSE of this model is 791.4167\n",
      "The equation of the estimated model is \n",
      "Y = 17.204928 + 2.590728 * X\n"
     ]
    }
   ],
   "source": [
    "#(2)\n",
    "from sklearn.linear_model import LinearRegression\n",
    "\n",
    "linear_model = LinearRegression()\n",
    "\n",
    "train_x = x_7train['x']\n",
    "train_x = np.expand_dims(train_x, 1)\n",
    "\n",
    "linear_model.fit(train_x, x_7train['y'])\n",
    "\n",
    "\n",
    "print(\"The r-squared value of the model is %.4f\" % linear_model.score(train_x, x_7train['y']))\n",
    "\n",
    "\n",
    "mse = np.mean(np.absolute((linear_model.predict(train_x)-x_7train['y'])**2))\n",
    "\n",
    "print(\"The MSE of this model is\", mse.round(4))\n",
    "\n",
    "print(\"The equation of the estimated model is \\nY = %f + %f * X\" % (linear_model.intercept_, linear_model.coef_))\n",
    " "
   ]
  },
  {
   "cell_type": "code",
   "execution_count": 154,
   "metadata": {},
   "outputs": [
    {
     "name": "stdout",
     "output_type": "stream",
     "text": [
      "============================== cos tranformation ==============================\n",
      "The equation of the estimated model is \n",
      "Y = 20.052167 + 1.283051 * X + 16.161039 * cos(X)\n",
      "The r-squared value of the model is 0.1922\n",
      "The mse of the estimated model is  683.631\n",
      "============================== sin tranformation ==============================\n",
      "The equation of the estimated model is \n",
      "Y = 20.052167 + 1.283051 * X + 16.161039 * cos(X)\n",
      "The r-squared value of the model is -0.4631\n",
      "The mse of the estimated model is  1238.2267\n",
      "============================== tan tranformation ==============================\n",
      "The equation of the estimated model is \n",
      "Y = 20.052167 + 1.283051 * X + 16.161039 * cos(X)\n",
      "The r-squared value of the model is -3.4017\n",
      "The mse of the estimated model is  3725.227\n",
      "============================== X squared tranformation ==============================\n",
      "The equation of the estimated model is \n",
      "Y = 20.052167 + 1.283051 * X + 16.161039 * cos(X)\n",
      "The r-squared value of the model is -45.1755\n",
      "The mse of the estimated model is  39078.7933\n",
      "============================== X^3 tranformation ==============================\n",
      "The equation of the estimated model is \n",
      "Y = 20.052167 + 1.283051 * X + 16.161039 * cos(X)\n",
      "The r-squared value of the model is -1095.0750\n",
      "The mse of the estimated model is  927618.6007\n",
      "============================== X^4 tranformation ==============================\n",
      "The equation of the estimated model is \n",
      "Y = 20.052167 + 1.283051 * X + 16.161039 * cos(X)\n",
      "The r-squared value of the model is -30393.7876\n",
      "The mse of the estimated model is  25723395.0786\n",
      "============================== 1/X tranformation ==============================\n",
      "The equation of the estimated model is \n",
      "Y = 20.052167 + 1.283051 * X + 16.161039 * cos(X)\n",
      "The r-squared value of the model is -0.5054\n",
      "The mse of the estimated model is  1274.0447\n",
      "================================================ The final model ================================================\n",
      "The equation of the estimated model is \n",
      "Y = 15.496492 + 2.934301 * X + -0.144198 * cos(X)+ -19.666198 * cos(X)\n",
      "The r-squared value of the model is 0.2790\n",
      "The mse of the estimated model is  610.1552\n"
     ]
    }
   ],
   "source": [
    "#(3）\n",
    "def linear(transform,train_y):\n",
    "\n",
    "    model = LinearRegression().fit(transform1, train_y)\n",
    "    print(\"The equation of the estimated model is \\nY = %f + %f * X + %f * cos(X)\" % ( model.intercept_, model.coef_[0], model.coef_[1]))\n",
    "    print(\"The r-squared value of the model is %.4f\" % model.score(transform, train_y))\n",
    "    mse = np.mean(np.absolute((model.predict(transform)-train_y)**2))\n",
    "    print(\"The mse of the estimated model is \",mse.round(4))\n",
    " \n",
    "    \n",
    "    \n",
    "train_y = x_7train['y']\n",
    "\n",
    "print(\"=\"*30 + \" cos tranformation \" + \"=\"*30)\n",
    "transform1 = np.c_[train_x, np.cos(train_x)]\n",
    "linear(transform1,train_y)\n",
    "\n",
    "print(\"=\"*30 + \" sin tranformation \" + \"=\"*30)\n",
    "transform2 = np.c_[train_x, np.sin(train_x)]\n",
    "linear(transform2,train_y)\n",
    "\n",
    "print(\"=\"*30 + \" tan tranformation \" + \"=\"*30)\n",
    "transform3 = np.c_[train_x, np.tan(train_x)]\n",
    "linear(transform3,train_y)\n",
    "\n",
    "print(\"=\"*30 + \" X squared tranformation \" + \"=\"*30)\n",
    "transform4 = np.c_[train_x, train_x**2]\n",
    "linear(transform4,train_y)\n",
    "\n",
    "print(\"=\"*30 + \" X^3 tranformation \" + \"=\"*30)\n",
    "transform5 = np.c_[train_x,train_x**3 ]\n",
    "linear(transform5,train_y)\n",
    "\n",
    "print(\"=\"*30 + \" X^4 tranformation \" + \"=\"*30)\n",
    "transform6 = np.c_[train_x,train_x**4 ]\n",
    "linear(transform6,train_y)\n",
    "\n",
    "print(\"=\"*30 + \" 1/X tranformation \" + \"=\"*30)\n",
    "transform7 = np.c_[train_x,1/train_x ]\n",
    "linear(transform7,train_y)\n",
    "\n",
    "\n",
    "\n",
    "print(\"=\"*48 + \" The final model \" + \"=\"*48)\n",
    "transform8 = np.c_[train_x, train_x**2, np.sin(train_x )]\n",
    "model = LinearRegression().fit(transform8, train_y)\n",
    "print(\"The equation of the estimated model is \\nY = %f + %f * X + %f * cos(X)+ %f * cos(X)\" % ( model.intercept_, model.coef_[0], model.coef_[1], model.coef_[2]))\n",
    "print(\"The r-squared value of the model is %.4f\" % model.score(transform8, train_y))\n",
    "mse = np.mean(np.absolute((model.predict(transform8)-train_y)**2))\n",
    "print(\"The mse of the estimated model is \",mse.round(4))\n"
   ]
  },
  {
   "cell_type": "code",
   "execution_count": 122,
   "metadata": {},
   "outputs": [
    {
     "data": {
      "text/plain": [
       "(50, 3)"
      ]
     },
     "execution_count": 122,
     "metadata": {},
     "output_type": "execute_result"
    }
   ],
   "source": [
    "transform8.shape"
   ]
  },
  {
   "cell_type": "code",
   "execution_count": 123,
   "metadata": {},
   "outputs": [
    {
     "data": {
      "text/plain": [
       "(10, 1)"
      ]
     },
     "execution_count": 123,
     "metadata": {},
     "output_type": "execute_result"
    }
   ],
   "source": [
    "grid.shape"
   ]
  },
  {
   "cell_type": "code",
   "execution_count": 124,
   "metadata": {},
   "outputs": [
    {
     "data": {
      "text/plain": [
       "(50, 1)"
      ]
     },
     "execution_count": 124,
     "metadata": {},
     "output_type": "execute_result"
    }
   ],
   "source": [
    "train_x.shape"
   ]
  },
  {
   "cell_type": "code",
   "execution_count": 126,
   "metadata": {},
   "outputs": [
    {
     "data": {
      "text/plain": [
       "(10, 2)"
      ]
     },
     "execution_count": 126,
     "metadata": {},
     "output_type": "execute_result"
    }
   ],
   "source": [
    "grid_square = np.c_[grid, grid**2]\n",
    "grid_square.shape"
   ]
  },
  {
   "cell_type": "code",
   "execution_count": 127,
   "metadata": {},
   "outputs": [
    {
     "data": {
      "text/plain": [
       "(10, 2)"
      ]
     },
     "execution_count": 127,
     "metadata": {},
     "output_type": "execute_result"
    }
   ],
   "source": [
    "grid_square2 = np.c_[grid, grid]\n",
    "grid_square2.shape"
   ]
  },
  {
   "cell_type": "code",
   "execution_count": 166,
   "metadata": {},
   "outputs": [
    {
     "data": {
      "image/png": "[encoded data removed]",
      "text/plain": [
       "<Figure size 432x288 with 1 Axes>"
      ]
     },
     "metadata": {
      "needs_background": "light"
     },
     "output_type": "display_data"
    }
   ],
   "source": [
    "#(d)\n",
    "grid = np.linspace(-10, 10, 10).reshape(10,1)\n",
    "grid0= np.linspace(-3, 1, 3).reshape(3,1)\n",
    "\n",
    "\n",
    "grid2 = np.c_[grid0,grid0**2,np.sin(grid0)]\n",
    "\n",
    "plt.scatter(train_x, train_y)\n",
    "\n",
    "linear_y_hat = linear_model.predict(grid)\n",
    "plt.plot(grid, linear_y_hat, '-r', label = \"linear model\")\n",
    "\n",
    "final_y_hat = model.predict(grid2)\n",
    "plt.plot(grid2, final_y_hat, '-g', label = \"final model\")\n",
    "\n",
    "\n",
    "plt.title(\"Prediction of the 2 Linear Regression\")\n",
    "plt.xlabel(\"x axis\")\n",
    "plt.ylabel(\"y axis\")\n",
    "plt.legend()\n",
    "plt.show()"
   ]
  },
  {
   "cell_type": "code",
   "execution_count": null,
   "metadata": {},
   "outputs": [],
   "source": []
  }
 ],
 "metadata": {
  "kernelspec": {
   "display_name": "Python 3",
   "language": "python",
   "name": "python3"
  },
  "language_info": {
   "codemirror_mode": {
    "name": "ipython",
    "version": 3
   },
   "file_extension": ".py",
   "mimetype": "text/x-python",
   "name": "python",
   "nbconvert_exporter": "python",
   "pygments_lexer": "ipython3",
   "version": "3.8.1"
  },
  "varInspector": {
   "cols": {
    "lenName": 16,
    "lenType": 16,
    "lenVar": 40
   },
   "kernels_config": {
    "python": {
     "delete_cmd_postfix": "",
     "delete_cmd_prefix": "del ",
     "library": "var_list.py",
     "varRefreshCmd": "print(var_dic_list())"
    },
    "r": {
     "delete_cmd_postfix": ") ",
     "delete_cmd_prefix": "rm(",
     "library": "var_list.r",
     "varRefreshCmd": "cat(var_dic_list()) "
    }
   },
   "types_to_exclude": [
    "module",
    "function",
    "builtin_function_or_method",
    "instance",
    "_Feature"
   ],
   "window_display": false
  }
 },
 "nbformat": 4,
 "nbformat_minor": 2
}
